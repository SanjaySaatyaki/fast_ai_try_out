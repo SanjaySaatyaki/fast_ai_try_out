{
  "nbformat": 4,
  "nbformat_minor": 0,
  "metadata": {
    "colab": {
      "provenance": [],
      "authorship_tag": "ABX9TyMMgv8yCle5a01ZA9JzVdV5",
      "include_colab_link": true
    },
    "kernelspec": {
      "name": "python3",
      "display_name": "Python 3"
    },
    "language_info": {
      "name": "python"
    }
  },
  "cells": [
    {
      "cell_type": "markdown",
      "metadata": {
        "id": "view-in-github",
        "colab_type": "text"
      },
      "source": [
        "<a href=\"https://colab.research.google.com/github/SanjaySaatyaki/fast_ai_try_out/blob/main/03_image_recognition.ipynb\" target=\"_parent\"><img src=\"https://colab.research.google.com/assets/colab-badge.svg\" alt=\"Open In Colab\"/></a>"
      ]
    },
    {
      "cell_type": "code",
      "source": [
        "\n",
        "#hide\n",
        "! [ -e /content ] && pip install -Uqq fastbook\n",
        "import fastbook\n",
        "fastbook.setup_book()\n",
        ""
      ],
      "metadata": {
        "colab": {
          "base_uri": "https://localhost:8080/"
        },
        "id": "PJYILgn-MVbf",
        "outputId": "ec6cf26f-6d99-4871-eaeb-b3cc21b844a3"
      },
      "execution_count": 1,
      "outputs": [
        {
          "output_type": "stream",
          "name": "stdout",
          "text": [
            "\u001b[?25l   \u001b[90m━━━━━━━━━━━━━━━━━━━━━━━━━━━━━━━━━━━━━━━━\u001b[0m \u001b[32m0.0/719.8 kB\u001b[0m \u001b[31m?\u001b[0m eta \u001b[36m-:--:--\u001b[0m\r\u001b[2K   \u001b[90m━━━━━━━━━━━━━━━━━━━━━━━━━━━━━━━━━━━━━━━━\u001b[0m \u001b[32m719.8/719.8 kB\u001b[0m \u001b[31m25.3 MB/s\u001b[0m eta \u001b[36m0:00:00\u001b[0m\n",
            "\u001b[?25h\u001b[?25l   \u001b[90m━━━━━━━━━━━━━━━━━━━━━━━━━━━━━━━━━━━━━━━━\u001b[0m \u001b[32m0.0/1.6 MB\u001b[0m \u001b[31m?\u001b[0m eta \u001b[36m-:--:--\u001b[0m\r\u001b[2K   \u001b[91m━━━━━━━━━━━━━━━━━━━━━━━━━━━━━━━━━━━━━━━\u001b[0m\u001b[91m╸\u001b[0m \u001b[32m1.6/1.6 MB\u001b[0m \u001b[31m75.4 MB/s\u001b[0m eta \u001b[36m0:00:01\u001b[0m\r\u001b[2K   \u001b[90m━━━━━━━━━━━━━━━━━━━━━━━━━━━━━━━━━━━━━━━━\u001b[0m \u001b[32m1.6/1.6 MB\u001b[0m \u001b[31m41.4 MB/s\u001b[0m eta \u001b[36m0:00:00\u001b[0m\n",
            "\u001b[?25hMounted at /content/gdrive\n"
          ]
        }
      ]
    },
    {
      "cell_type": "code",
      "source": [
        "#hide\n",
        "from fastai.vision.all import *\n",
        "from fastbook import *"
      ],
      "metadata": {
        "id": "5UklOBDBNIbt"
      },
      "execution_count": 2,
      "outputs": []
    },
    {
      "cell_type": "code",
      "execution_count": 3,
      "metadata": {
        "id": "3ynC3ShdFlWf",
        "colab": {
          "base_uri": "https://localhost:8080/",
          "height": 37
        },
        "outputId": "9ef7ed0c-5a41-49e2-9528-24a06cd9cbbc"
      },
      "outputs": [
        {
          "output_type": "display_data",
          "data": {
            "text/plain": [
              "<IPython.core.display.HTML object>"
            ],
            "text/html": [
              "\n",
              "<style>\n",
              "    /* Turns off some styling */\n",
              "    progress {\n",
              "        /* gets rid of default border in Firefox and Opera. */\n",
              "        border: none;\n",
              "        /* Needs to be in here for Safari polyfill so background images work as expected. */\n",
              "        background-size: auto;\n",
              "    }\n",
              "    progress:not([value]), progress:not([value])::-webkit-progress-bar {\n",
              "        background: repeating-linear-gradient(45deg, #7e7e7e, #7e7e7e 10px, #5c5c5c 10px, #5c5c5c 20px);\n",
              "    }\n",
              "    .progress-bar-interrupted, .progress-bar-interrupted::-webkit-progress-bar {\n",
              "        background: #F44336;\n",
              "    }\n",
              "</style>\n"
            ]
          },
          "metadata": {}
        },
        {
          "output_type": "display_data",
          "data": {
            "text/plain": [
              "<IPython.core.display.HTML object>"
            ],
            "text/html": [
              "\n",
              "    <div>\n",
              "      <progress value='3219456' class='' max='3214948' style='width:300px; height:20px; vertical-align: middle;'></progress>\n",
              "      100.14% [3219456/3214948 00:00&lt;00:00]\n",
              "    </div>\n",
              "    "
            ]
          },
          "metadata": {}
        }
      ],
      "source": [
        "path = untar_data(URLs.MNIST_SAMPLE)"
      ]
    },
    {
      "cell_type": "code",
      "source": [
        "path.ls()"
      ],
      "metadata": {
        "colab": {
          "base_uri": "https://localhost:8080/"
        },
        "id": "HVdPHpjONGg8",
        "outputId": "efde9f35-4135-4957-ddab-94ca4b0a970c"
      },
      "execution_count": 4,
      "outputs": [
        {
          "output_type": "execute_result",
          "data": {
            "text/plain": [
              "(#3) [Path('/root/.fastai/data/mnist_sample/valid'),Path('/root/.fastai/data/mnist_sample/train'),Path('/root/.fastai/data/mnist_sample/labels.csv')]"
            ]
          },
          "metadata": {},
          "execution_count": 4
        }
      ]
    },
    {
      "cell_type": "code",
      "source": [
        "(path/'train').ls()"
      ],
      "metadata": {
        "colab": {
          "base_uri": "https://localhost:8080/"
        },
        "id": "rb49OcGVNSI7",
        "outputId": "bc5a8296-ea14-4e49-ca6b-51cd8462b6d2"
      },
      "execution_count": 5,
      "outputs": [
        {
          "output_type": "execute_result",
          "data": {
            "text/plain": [
              "(#2) [Path('/root/.fastai/data/mnist_sample/train/7'),Path('/root/.fastai/data/mnist_sample/train/3')]"
            ]
          },
          "metadata": {},
          "execution_count": 5
        }
      ]
    },
    {
      "cell_type": "code",
      "source": [
        "threes = (path/'train'/'3').ls().sorted()\n",
        "sevens = (path/'train'/'7').ls().sorted()\n",
        "threes"
      ],
      "metadata": {
        "colab": {
          "base_uri": "https://localhost:8080/"
        },
        "id": "1kwqUBKiOIQy",
        "outputId": "54b8aa3f-8976-48e6-f3a5-b711448d2892"
      },
      "execution_count": 6,
      "outputs": [
        {
          "output_type": "execute_result",
          "data": {
            "text/plain": [
              "(#6131) [Path('/root/.fastai/data/mnist_sample/train/3/10.png'),Path('/root/.fastai/data/mnist_sample/train/3/10000.png'),Path('/root/.fastai/data/mnist_sample/train/3/10011.png'),Path('/root/.fastai/data/mnist_sample/train/3/10031.png'),Path('/root/.fastai/data/mnist_sample/train/3/10034.png'),Path('/root/.fastai/data/mnist_sample/train/3/10042.png'),Path('/root/.fastai/data/mnist_sample/train/3/10052.png'),Path('/root/.fastai/data/mnist_sample/train/3/1007.png'),Path('/root/.fastai/data/mnist_sample/train/3/10074.png'),Path('/root/.fastai/data/mnist_sample/train/3/10091.png'),Path('/root/.fastai/data/mnist_sample/train/3/10093.png'),Path('/root/.fastai/data/mnist_sample/train/3/10097.png'),Path('/root/.fastai/data/mnist_sample/train/3/10099.png'),Path('/root/.fastai/data/mnist_sample/train/3/10116.png'),Path('/root/.fastai/data/mnist_sample/train/3/10125.png'),Path('/root/.fastai/data/mnist_sample/train/3/10137.png'),Path('/root/.fastai/data/mnist_sample/train/3/10141.png'),Path('/root/.fastai/data/mnist_sample/train/3/10144.png'),Path('/root/.fastai/data/mnist_sample/train/3/10155.png'),Path('/root/.fastai/data/mnist_sample/train/3/10161.png')...]"
            ]
          },
          "metadata": {},
          "execution_count": 6
        }
      ]
    },
    {
      "cell_type": "code",
      "source": [
        "im3_path = threes[1]\n",
        "im3 = Image.open(im3_path)\n",
        "im3"
      ],
      "metadata": {
        "colab": {
          "base_uri": "https://localhost:8080/",
          "height": 45
        },
        "id": "M8TCQg8IOLwJ",
        "outputId": "8cfd76ee-9bbc-4bd5-f9ca-15d1626a0c1b"
      },
      "execution_count": 7,
      "outputs": [
        {
          "output_type": "execute_result",
          "data": {
            "text/plain": [
              "<PIL.PngImagePlugin.PngImageFile image mode=L size=28x28>"
            ],
            "image/png": "[encoded data removed]",
            "image/jpeg": "[encoded data removed]"
          },
          "metadata": {},
          "execution_count": 7
        }
      ]
    },
    {
      "cell_type": "code",
      "source": [
        "array(im3)[4:10,4:10]"
      ],
      "metadata": {
        "colab": {
          "base_uri": "https://localhost:8080/"
        },
        "id": "ZjghRJd6OTjK",
        "outputId": "ffe66e31-9c03-4a19-97b8-4ec09499da44"
      },
      "execution_count": 8,
      "outputs": [
        {
          "output_type": "execute_result",
          "data": {
            "text/plain": [
              "array([[  0,   0,   0,   0,   0,   0],\n",
              "       [  0,   0,   0,   0,   0,  29],\n",
              "       [  0,   0,   0,  48, 166, 224],\n",
              "       [  0,  93, 244, 249, 253, 187],\n",
              "       [  0, 107, 253, 253, 230,  48],\n",
              "       [  0,   3,  20,  20,  15,   0]], dtype=uint8)"
            ]
          },
          "metadata": {},
          "execution_count": 8
        }
      ]
    },
    {
      "cell_type": "code",
      "source": [
        "im3_t = tensor(im3)\n",
        "df = pd.DataFrame(im3_t[4:15,4:22])\n",
        "df.style.set_properties(**{'font-size':'6pt'}).background_gradient('Greys')"
      ],
      "metadata": {
        "colab": {
          "base_uri": "https://localhost:8080/",
          "height": 394
        },
        "id": "3KXA8OkvOb9R",
        "outputId": "3e2506e6-084d-4e9d-d194-3086f258d327"
      },
      "execution_count": 9,
      "outputs": [
        {
          "output_type": "execute_result",
          "data": {
            "text/plain": [
              "<pandas.io.formats.style.Styler at 0x7cab62eaf650>"
            ],
            "text/html": [
              "<style type=\"text/css\">\n",
              "#T_97d09_row0_col0, #T_97d09_row0_col1, #T_97d09_row0_col2, #T_97d09_row0_col3, #T_97d09_row0_col4, #T_97d09_row0_col5, #T_97d09_row0_col6, #T_97d09_row0_col7, #T_97d09_row0_col8, #T_97d09_row0_col9, #T_97d09_row0_col10, #T_97d09_row0_col11, #T_97d09_row0_col12, #T_97d09_row0_col13, #T_97d09_row0_col14, #T_97d09_row0_col15, #T_97d09_row0_col16, #T_97d09_row0_col17, #T_97d09_row1_col0, #T_97d09_row1_col1, #T_97d09_row1_col2, #T_97d09_row1_col3, #T_97d09_row1_col4, #T_97d09_row1_col15, #T_97d09_row1_col16, #T_97d09_row1_col17, #T_97d09_row2_col0, #T_97d09_row2_col1, #T_97d09_row2_col2, #T_97d09_row2_col15, #T_97d09_row2_col16, #T_97d09_row2_col17, #T_97d09_row3_col0, #T_97d09_row3_col15, #T_97d09_row3_col16, #T_97d09_row3_col17, #T_97d09_row4_col0, #T_97d09_row4_col6, #T_97d09_row4_col7, #T_97d09_row4_col8, #T_97d09_row4_col9, #T_97d09_row4_col10, #T_97d09_row4_col15, #T_97d09_row4_col16, #T_97d09_row4_col17, #T_97d09_row5_col0, #T_97d09_row5_col5, #T_97d09_row5_col6, #T_97d09_row5_col7, #T_97d09_row5_col8, #T_97d09_row5_col9, #T_97d09_row5_col15, #T_97d09_row5_col16, #T_97d09_row5_col17, #T_97d09_row6_col0, #T_97d09_row6_col1, #T_97d09_row6_col2, #T_97d09_row6_col3, #T_97d09_row6_col4, #T_97d09_row6_col5, #T_97d09_row6_col6, #T_97d09_row6_col7, #T_97d09_row6_col8, #T_97d09_row6_col9, #T_97d09_row6_col14, #T_97d09_row6_col15, #T_97d09_row6_col16, #T_97d09_row6_col17, #T_97d09_row7_col0, #T_97d09_row7_col1, #T_97d09_row7_col2, #T_97d09_row7_col3, #T_97d09_row7_col4, #T_97d09_row7_col5, #T_97d09_row7_col6, #T_97d09_row7_col13, #T_97d09_row7_col14, #T_97d09_row7_col15, #T_97d09_row7_col16, #T_97d09_row7_col17, #T_97d09_row8_col0, #T_97d09_row8_col1, #T_97d09_row8_col2, #T_97d09_row8_col3, #T_97d09_row8_col4, #T_97d09_row8_col13, #T_97d09_row8_col14, #T_97d09_row8_col15, #T_97d09_row8_col16, #T_97d09_row8_col17, #T_97d09_row9_col0, #T_97d09_row9_col1, #T_97d09_row9_col2, #T_97d09_row9_col3, #T_97d09_row9_col4, #T_97d09_row9_col16, #T_97d09_row9_col17, #T_97d09_row10_col0, #T_97d09_row10_col1, #T_97d09_row10_col2, #T_97d09_row10_col3, #T_97d09_row10_col4, #T_97d09_row10_col5, #T_97d09_row10_col6, #T_97d09_row10_col17 {\n",
              "  font-size: 6pt;\n",
              "  background-color: #ffffff;\n",
              "  color: #000000;\n",
              "}\n",
              "#T_97d09_row1_col5 {\n",
              "  font-size: 6pt;\n",
              "  background-color: #efefef;\n",
              "  color: #000000;\n",
              "}\n",
              "#T_97d09_row1_col6, #T_97d09_row1_col13 {\n",
              "  font-size: 6pt;\n",
              "  background-color: #7c7c7c;\n",
              "  color: #f1f1f1;\n",
              "}\n",
              "#T_97d09_row1_col7 {\n",
              "  font-size: 6pt;\n",
              "  background-color: #4a4a4a;\n",
              "  color: #f1f1f1;\n",
              "}\n",
              "#T_97d09_row1_col8, #T_97d09_row1_col9, #T_97d09_row1_col10, #T_97d09_row2_col5, #T_97d09_row2_col6, #T_97d09_row2_col7, #T_97d09_row2_col11, #T_97d09_row2_col12, #T_97d09_row2_col13, #T_97d09_row3_col4, #T_97d09_row3_col12, #T_97d09_row3_col13, #T_97d09_row4_col1, #T_97d09_row4_col2, #T_97d09_row4_col3, #T_97d09_row4_col12, #T_97d09_row4_col13, #T_97d09_row5_col12, #T_97d09_row6_col11, #T_97d09_row9_col11, #T_97d09_row10_col11, #T_97d09_row10_col12, #T_97d09_row10_col13, #T_97d09_row10_col14, #T_97d09_row10_col15, #T_97d09_row10_col16 {\n",
              "  font-size: 6pt;\n",
              "  background-color: #000000;\n",
              "  color: #f1f1f1;\n",
              "}\n",
              "#T_97d09_row1_col11 {\n",
              "  font-size: 6pt;\n",
              "  background-color: #606060;\n",
              "  color: #f1f1f1;\n",
              "}\n",
              "#T_97d09_row1_col12 {\n",
              "  font-size: 6pt;\n",
              "  background-color: #4d4d4d;\n",
              "  color: #f1f1f1;\n",
              "}\n",
              "#T_97d09_row1_col14 {\n",
              "  font-size: 6pt;\n",
              "  background-color: #bbbbbb;\n",
              "  color: #000000;\n",
              "}\n",
              "#T_97d09_row2_col3 {\n",
              "  font-size: 6pt;\n",
              "  background-color: #e4e4e4;\n",
              "  color: #000000;\n",
              "}\n",
              "#T_97d09_row2_col4, #T_97d09_row8_col6 {\n",
              "  font-size: 6pt;\n",
              "  background-color: #6b6b6b;\n",
              "  color: #f1f1f1;\n",
              "}\n",
              "#T_97d09_row2_col8, #T_97d09_row2_col14, #T_97d09_row3_col14 {\n",
              "  font-size: 6pt;\n",
              "  background-color: #171717;\n",
              "  color: #f1f1f1;\n",
              "}\n",
              "#T_97d09_row2_col9, #T_97d09_row3_col11 {\n",
              "  font-size: 6pt;\n",
              "  background-color: #4b4b4b;\n",
              "  color: #f1f1f1;\n",
              "}\n",
              "#T_97d09_row2_col10, #T_97d09_row7_col10, #T_97d09_row8_col8, #T_97d09_row8_col10, #T_97d09_row9_col8, #T_97d09_row9_col10 {\n",
              "  font-size: 6pt;\n",
              "  background-color: #010101;\n",
              "  color: #f1f1f1;\n",
              "}\n",
              "#T_97d09_row3_col1 {\n",
              "  font-size: 6pt;\n",
              "  background-color: #272727;\n",
              "  color: #f1f1f1;\n",
              "}\n",
              "#T_97d09_row3_col2 {\n",
              "  font-size: 6pt;\n",
              "  background-color: #0a0a0a;\n",
              "  color: #f1f1f1;\n",
              "}\n",
              "#T_97d09_row3_col3 {\n",
              "  font-size: 6pt;\n",
              "  background-color: #050505;\n",
              "  color: #f1f1f1;\n",
              "}\n",
              "#T_97d09_row3_col5 {\n",
              "  font-size: 6pt;\n",
              "  background-color: #333333;\n",
              "  color: #f1f1f1;\n",
              "}\n",
              "#T_97d09_row3_col6 {\n",
              "  font-size: 6pt;\n",
              "  background-color: #e6e6e6;\n",
              "  color: #000000;\n",
              "}\n",
              "#T_97d09_row3_col7, #T_97d09_row3_col10 {\n",
              "  font-size: 6pt;\n",
              "  background-color: #fafafa;\n",
              "  color: #000000;\n",
              "}\n",
              "#T_97d09_row3_col8 {\n",
              "  font-size: 6pt;\n",
              "  background-color: #fbfbfb;\n",
              "  color: #000000;\n",
              "}\n",
              "#T_97d09_row3_col9 {\n",
              "  font-size: 6pt;\n",
              "  background-color: #fdfdfd;\n",
              "  color: #000000;\n",
              "}\n",
              "#T_97d09_row4_col4 {\n",
              "  font-size: 6pt;\n",
              "  background-color: #1b1b1b;\n",
              "  color: #f1f1f1;\n",
              "}\n",
              "#T_97d09_row4_col5 {\n",
              "  font-size: 6pt;\n",
              "  background-color: #e0e0e0;\n",
              "  color: #000000;\n",
              "}\n",
              "#T_97d09_row4_col11 {\n",
              "  font-size: 6pt;\n",
              "  background-color: #4e4e4e;\n",
              "  color: #f1f1f1;\n",
              "}\n",
              "#T_97d09_row4_col14 {\n",
              "  font-size: 6pt;\n",
              "  background-color: #767676;\n",
              "  color: #f1f1f1;\n",
              "}\n",
              "#T_97d09_row5_col1 {\n",
              "  font-size: 6pt;\n",
              "  background-color: #fcfcfc;\n",
              "  color: #000000;\n",
              "}\n",
              "#T_97d09_row5_col2, #T_97d09_row5_col3 {\n",
              "  font-size: 6pt;\n",
              "  background-color: #f6f6f6;\n",
              "  color: #000000;\n",
              "}\n",
              "#T_97d09_row5_col4, #T_97d09_row7_col7 {\n",
              "  font-size: 6pt;\n",
              "  background-color: #f8f8f8;\n",
              "  color: #000000;\n",
              "}\n",
              "#T_97d09_row5_col10, #T_97d09_row10_col7 {\n",
              "  font-size: 6pt;\n",
              "  background-color: #e8e8e8;\n",
              "  color: #000000;\n",
              "}\n",
              "#T_97d09_row5_col11 {\n",
              "  font-size: 6pt;\n",
              "  background-color: #222222;\n",
              "  color: #f1f1f1;\n",
              "}\n",
              "#T_97d09_row5_col13, #T_97d09_row6_col12 {\n",
              "  font-size: 6pt;\n",
              "  background-color: #090909;\n",
              "  color: #f1f1f1;\n",
              "}\n",
              "#T_97d09_row5_col14 {\n",
              "  font-size: 6pt;\n",
              "  background-color: #d0d0d0;\n",
              "  color: #000000;\n",
              "}\n",
              "#T_97d09_row6_col10, #T_97d09_row7_col11, #T_97d09_row9_col6 {\n",
              "  font-size: 6pt;\n",
              "  background-color: #060606;\n",
              "  color: #f1f1f1;\n",
              "}\n",
              "#T_97d09_row6_col13 {\n",
              "  font-size: 6pt;\n",
              "  background-color: #979797;\n",
              "  color: #f1f1f1;\n",
              "}\n",
              "#T_97d09_row7_col8 {\n",
              "  font-size: 6pt;\n",
              "  background-color: #b6b6b6;\n",
              "  color: #000000;\n",
              "}\n",
              "#T_97d09_row7_col9 {\n",
              "  font-size: 6pt;\n",
              "  background-color: #252525;\n",
              "  color: #f1f1f1;\n",
              "}\n",
              "#T_97d09_row7_col12 {\n",
              "  font-size: 6pt;\n",
              "  background-color: #999999;\n",
              "  color: #f1f1f1;\n",
              "}\n",
              "#T_97d09_row8_col5 {\n",
              "  font-size: 6pt;\n",
              "  background-color: #f9f9f9;\n",
              "  color: #000000;\n",
              "}\n",
              "#T_97d09_row8_col7 {\n",
              "  font-size: 6pt;\n",
              "  background-color: #101010;\n",
              "  color: #f1f1f1;\n",
              "}\n",
              "#T_97d09_row8_col9, #T_97d09_row9_col9 {\n",
              "  font-size: 6pt;\n",
              "  background-color: #020202;\n",
              "  color: #f1f1f1;\n",
              "}\n",
              "#T_97d09_row8_col11 {\n",
              "  font-size: 6pt;\n",
              "  background-color: #545454;\n",
              "  color: #f1f1f1;\n",
              "}\n",
              "#T_97d09_row8_col12 {\n",
              "  font-size: 6pt;\n",
              "  background-color: #f1f1f1;\n",
              "  color: #000000;\n",
              "}\n",
              "#T_97d09_row9_col5 {\n",
              "  font-size: 6pt;\n",
              "  background-color: #f7f7f7;\n",
              "  color: #000000;\n",
              "}\n",
              "#T_97d09_row9_col7 {\n",
              "  font-size: 6pt;\n",
              "  background-color: #030303;\n",
              "  color: #f1f1f1;\n",
              "}\n",
              "#T_97d09_row9_col12 {\n",
              "  font-size: 6pt;\n",
              "  background-color: #181818;\n",
              "  color: #f1f1f1;\n",
              "}\n",
              "#T_97d09_row9_col13 {\n",
              "  font-size: 6pt;\n",
              "  background-color: #303030;\n",
              "  color: #f1f1f1;\n",
              "}\n",
              "#T_97d09_row9_col14 {\n",
              "  font-size: 6pt;\n",
              "  background-color: #a9a9a9;\n",
              "  color: #f1f1f1;\n",
              "}\n",
              "#T_97d09_row9_col15 {\n",
              "  font-size: 6pt;\n",
              "  background-color: #fefefe;\n",
              "  color: #000000;\n",
              "}\n",
              "#T_97d09_row10_col8, #T_97d09_row10_col9 {\n",
              "  font-size: 6pt;\n",
              "  background-color: #bababa;\n",
              "  color: #000000;\n",
              "}\n",
              "#T_97d09_row10_col10 {\n",
              "  font-size: 6pt;\n",
              "  background-color: #393939;\n",
              "  color: #f1f1f1;\n",
              "}\n",
              "</style>\n",
              "<table id=\"T_97d09\" class=\"dataframe\">\n",
              "  <thead>\n",
              "    <tr>\n",
              "      <th class=\"blank level0\" >&nbsp;</th>\n",
              "      <th id=\"T_97d09_level0_col0\" class=\"col_heading level0 col0\" >0</th>\n",
              "      <th id=\"T_97d09_level0_col1\" class=\"col_heading level0 col1\" >1</th>\n",
              "      <th id=\"T_97d09_level0_col2\" class=\"col_heading level0 col2\" >2</th>\n",
              "      <th id=\"T_97d09_level0_col3\" class=\"col_heading level0 col3\" >3</th>\n",
              "      <th id=\"T_97d09_level0_col4\" class=\"col_heading level0 col4\" >4</th>\n",
              "      <th id=\"T_97d09_level0_col5\" class=\"col_heading level0 col5\" >5</th>\n",
              "      <th id=\"T_97d09_level0_col6\" class=\"col_heading level0 col6\" >6</th>\n",
              "      <th id=\"T_97d09_level0_col7\" class=\"col_heading level0 col7\" >7</th>\n",
              "      <th id=\"T_97d09_level0_col8\" class=\"col_heading level0 col8\" >8</th>\n",
              "      <th id=\"T_97d09_level0_col9\" class=\"col_heading level0 col9\" >9</th>\n",
              "      <th id=\"T_97d09_level0_col10\" class=\"col_heading level0 col10\" >10</th>\n",
              "      <th id=\"T_97d09_level0_col11\" class=\"col_heading level0 col11\" >11</th>\n",
              "      <th id=\"T_97d09_level0_col12\" class=\"col_heading level0 col12\" >12</th>\n",
              "      <th id=\"T_97d09_level0_col13\" class=\"col_heading level0 col13\" >13</th>\n",
              "      <th id=\"T_97d09_level0_col14\" class=\"col_heading level0 col14\" >14</th>\n",
              "      <th id=\"T_97d09_level0_col15\" class=\"col_heading level0 col15\" >15</th>\n",
              "      <th id=\"T_97d09_level0_col16\" class=\"col_heading level0 col16\" >16</th>\n",
              "      <th id=\"T_97d09_level0_col17\" class=\"col_heading level0 col17\" >17</th>\n",
              "    </tr>\n",
              "  </thead>\n",
              "  <tbody>\n",
              "    <tr>\n",
              "      <th id=\"T_97d09_level0_row0\" class=\"row_heading level0 row0\" >0</th>\n",
              "      <td id=\"T_97d09_row0_col0\" class=\"data row0 col0\" >0</td>\n",
              "      <td id=\"T_97d09_row0_col1\" class=\"data row0 col1\" >0</td>\n",
              "      <td id=\"T_97d09_row0_col2\" class=\"data row0 col2\" >0</td>\n",
              "      <td id=\"T_97d09_row0_col3\" class=\"data row0 col3\" >0</td>\n",
              "      <td id=\"T_97d09_row0_col4\" class=\"data row0 col4\" >0</td>\n",
              "      <td id=\"T_97d09_row0_col5\" class=\"data row0 col5\" >0</td>\n",
              "      <td id=\"T_97d09_row0_col6\" class=\"data row0 col6\" >0</td>\n",
              "      <td id=\"T_97d09_row0_col7\" class=\"data row0 col7\" >0</td>\n",
              "      <td id=\"T_97d09_row0_col8\" class=\"data row0 col8\" >0</td>\n",
              "      <td id=\"T_97d09_row0_col9\" class=\"data row0 col9\" >0</td>\n",
              "      <td id=\"T_97d09_row0_col10\" class=\"data row0 col10\" >0</td>\n",
              "      <td id=\"T_97d09_row0_col11\" class=\"data row0 col11\" >0</td>\n",
              "      <td id=\"T_97d09_row0_col12\" class=\"data row0 col12\" >0</td>\n",
              "      <td id=\"T_97d09_row0_col13\" class=\"data row0 col13\" >0</td>\n",
              "      <td id=\"T_97d09_row0_col14\" class=\"data row0 col14\" >0</td>\n",
              "      <td id=\"T_97d09_row0_col15\" class=\"data row0 col15\" >0</td>\n",
              "      <td id=\"T_97d09_row0_col16\" class=\"data row0 col16\" >0</td>\n",
              "      <td id=\"T_97d09_row0_col17\" class=\"data row0 col17\" >0</td>\n",
              "    </tr>\n",
              "    <tr>\n",
              "      <th id=\"T_97d09_level0_row1\" class=\"row_heading level0 row1\" >1</th>\n",
              "      <td id=\"T_97d09_row1_col0\" class=\"data row1 col0\" >0</td>\n",
              "      <td id=\"T_97d09_row1_col1\" class=\"data row1 col1\" >0</td>\n",
              "      <td id=\"T_97d09_row1_col2\" class=\"data row1 col2\" >0</td>\n",
              "      <td id=\"T_97d09_row1_col3\" class=\"data row1 col3\" >0</td>\n",
              "      <td id=\"T_97d09_row1_col4\" class=\"data row1 col4\" >0</td>\n",
              "      <td id=\"T_97d09_row1_col5\" class=\"data row1 col5\" >29</td>\n",
              "      <td id=\"T_97d09_row1_col6\" class=\"data row1 col6\" >150</td>\n",
              "      <td id=\"T_97d09_row1_col7\" class=\"data row1 col7\" >195</td>\n",
              "      <td id=\"T_97d09_row1_col8\" class=\"data row1 col8\" >254</td>\n",
              "      <td id=\"T_97d09_row1_col9\" class=\"data row1 col9\" >255</td>\n",
              "      <td id=\"T_97d09_row1_col10\" class=\"data row1 col10\" >254</td>\n",
              "      <td id=\"T_97d09_row1_col11\" class=\"data row1 col11\" >176</td>\n",
              "      <td id=\"T_97d09_row1_col12\" class=\"data row1 col12\" >193</td>\n",
              "      <td id=\"T_97d09_row1_col13\" class=\"data row1 col13\" >150</td>\n",
              "      <td id=\"T_97d09_row1_col14\" class=\"data row1 col14\" >96</td>\n",
              "      <td id=\"T_97d09_row1_col15\" class=\"data row1 col15\" >0</td>\n",
              "      <td id=\"T_97d09_row1_col16\" class=\"data row1 col16\" >0</td>\n",
              "      <td id=\"T_97d09_row1_col17\" class=\"data row1 col17\" >0</td>\n",
              "    </tr>\n",
              "    <tr>\n",
              "      <th id=\"T_97d09_level0_row2\" class=\"row_heading level0 row2\" >2</th>\n",
              "      <td id=\"T_97d09_row2_col0\" class=\"data row2 col0\" >0</td>\n",
              "      <td id=\"T_97d09_row2_col1\" class=\"data row2 col1\" >0</td>\n",
              "      <td id=\"T_97d09_row2_col2\" class=\"data row2 col2\" >0</td>\n",
              "      <td id=\"T_97d09_row2_col3\" class=\"data row2 col3\" >48</td>\n",
              "      <td id=\"T_97d09_row2_col4\" class=\"data row2 col4\" >166</td>\n",
              "      <td id=\"T_97d09_row2_col5\" class=\"data row2 col5\" >224</td>\n",
              "      <td id=\"T_97d09_row2_col6\" class=\"data row2 col6\" >253</td>\n",
              "      <td id=\"T_97d09_row2_col7\" class=\"data row2 col7\" >253</td>\n",
              "      <td id=\"T_97d09_row2_col8\" class=\"data row2 col8\" >234</td>\n",
              "      <td id=\"T_97d09_row2_col9\" class=\"data row2 col9\" >196</td>\n",
              "      <td id=\"T_97d09_row2_col10\" class=\"data row2 col10\" >253</td>\n",
              "      <td id=\"T_97d09_row2_col11\" class=\"data row2 col11\" >253</td>\n",
              "      <td id=\"T_97d09_row2_col12\" class=\"data row2 col12\" >253</td>\n",
              "      <td id=\"T_97d09_row2_col13\" class=\"data row2 col13\" >253</td>\n",
              "      <td id=\"T_97d09_row2_col14\" class=\"data row2 col14\" >233</td>\n",
              "      <td id=\"T_97d09_row2_col15\" class=\"data row2 col15\" >0</td>\n",
              "      <td id=\"T_97d09_row2_col16\" class=\"data row2 col16\" >0</td>\n",
              "      <td id=\"T_97d09_row2_col17\" class=\"data row2 col17\" >0</td>\n",
              "    </tr>\n",
              "    <tr>\n",
              "      <th id=\"T_97d09_level0_row3\" class=\"row_heading level0 row3\" >3</th>\n",
              "      <td id=\"T_97d09_row3_col0\" class=\"data row3 col0\" >0</td>\n",
              "      <td id=\"T_97d09_row3_col1\" class=\"data row3 col1\" >93</td>\n",
              "      <td id=\"T_97d09_row3_col2\" class=\"data row3 col2\" >244</td>\n",
              "      <td id=\"T_97d09_row3_col3\" class=\"data row3 col3\" >249</td>\n",
              "      <td id=\"T_97d09_row3_col4\" class=\"data row3 col4\" >253</td>\n",
              "      <td id=\"T_97d09_row3_col5\" class=\"data row3 col5\" >187</td>\n",
              "      <td id=\"T_97d09_row3_col6\" class=\"data row3 col6\" >46</td>\n",
              "      <td id=\"T_97d09_row3_col7\" class=\"data row3 col7\" >10</td>\n",
              "      <td id=\"T_97d09_row3_col8\" class=\"data row3 col8\" >8</td>\n",
              "      <td id=\"T_97d09_row3_col9\" class=\"data row3 col9\" >4</td>\n",
              "      <td id=\"T_97d09_row3_col10\" class=\"data row3 col10\" >10</td>\n",
              "      <td id=\"T_97d09_row3_col11\" class=\"data row3 col11\" >194</td>\n",
              "      <td id=\"T_97d09_row3_col12\" class=\"data row3 col12\" >253</td>\n",
              "      <td id=\"T_97d09_row3_col13\" class=\"data row3 col13\" >253</td>\n",
              "      <td id=\"T_97d09_row3_col14\" class=\"data row3 col14\" >233</td>\n",
              "      <td id=\"T_97d09_row3_col15\" class=\"data row3 col15\" >0</td>\n",
              "      <td id=\"T_97d09_row3_col16\" class=\"data row3 col16\" >0</td>\n",
              "      <td id=\"T_97d09_row3_col17\" class=\"data row3 col17\" >0</td>\n",
              "    </tr>\n",
              "    <tr>\n",
              "      <th id=\"T_97d09_level0_row4\" class=\"row_heading level0 row4\" >4</th>\n",
              "      <td id=\"T_97d09_row4_col0\" class=\"data row4 col0\" >0</td>\n",
              "      <td id=\"T_97d09_row4_col1\" class=\"data row4 col1\" >107</td>\n",
              "      <td id=\"T_97d09_row4_col2\" class=\"data row4 col2\" >253</td>\n",
              "      <td id=\"T_97d09_row4_col3\" class=\"data row4 col3\" >253</td>\n",
              "      <td id=\"T_97d09_row4_col4\" class=\"data row4 col4\" >230</td>\n",
              "      <td id=\"T_97d09_row4_col5\" class=\"data row4 col5\" >48</td>\n",
              "      <td id=\"T_97d09_row4_col6\" class=\"data row4 col6\" >0</td>\n",
              "      <td id=\"T_97d09_row4_col7\" class=\"data row4 col7\" >0</td>\n",
              "      <td id=\"T_97d09_row4_col8\" class=\"data row4 col8\" >0</td>\n",
              "      <td id=\"T_97d09_row4_col9\" class=\"data row4 col9\" >0</td>\n",
              "      <td id=\"T_97d09_row4_col10\" class=\"data row4 col10\" >0</td>\n",
              "      <td id=\"T_97d09_row4_col11\" class=\"data row4 col11\" >192</td>\n",
              "      <td id=\"T_97d09_row4_col12\" class=\"data row4 col12\" >253</td>\n",
              "      <td id=\"T_97d09_row4_col13\" class=\"data row4 col13\" >253</td>\n",
              "      <td id=\"T_97d09_row4_col14\" class=\"data row4 col14\" >156</td>\n",
              "      <td id=\"T_97d09_row4_col15\" class=\"data row4 col15\" >0</td>\n",
              "      <td id=\"T_97d09_row4_col16\" class=\"data row4 col16\" >0</td>\n",
              "      <td id=\"T_97d09_row4_col17\" class=\"data row4 col17\" >0</td>\n",
              "    </tr>\n",
              "    <tr>\n",
              "      <th id=\"T_97d09_level0_row5\" class=\"row_heading level0 row5\" >5</th>\n",
              "      <td id=\"T_97d09_row5_col0\" class=\"data row5 col0\" >0</td>\n",
              "      <td id=\"T_97d09_row5_col1\" class=\"data row5 col1\" >3</td>\n",
              "      <td id=\"T_97d09_row5_col2\" class=\"data row5 col2\" >20</td>\n",
              "      <td id=\"T_97d09_row5_col3\" class=\"data row5 col3\" >20</td>\n",
              "      <td id=\"T_97d09_row5_col4\" class=\"data row5 col4\" >15</td>\n",
              "      <td id=\"T_97d09_row5_col5\" class=\"data row5 col5\" >0</td>\n",
              "      <td id=\"T_97d09_row5_col6\" class=\"data row5 col6\" >0</td>\n",
              "      <td id=\"T_97d09_row5_col7\" class=\"data row5 col7\" >0</td>\n",
              "      <td id=\"T_97d09_row5_col8\" class=\"data row5 col8\" >0</td>\n",
              "      <td id=\"T_97d09_row5_col9\" class=\"data row5 col9\" >0</td>\n",
              "      <td id=\"T_97d09_row5_col10\" class=\"data row5 col10\" >43</td>\n",
              "      <td id=\"T_97d09_row5_col11\" class=\"data row5 col11\" >224</td>\n",
              "      <td id=\"T_97d09_row5_col12\" class=\"data row5 col12\" >253</td>\n",
              "      <td id=\"T_97d09_row5_col13\" class=\"data row5 col13\" >245</td>\n",
              "      <td id=\"T_97d09_row5_col14\" class=\"data row5 col14\" >74</td>\n",
              "      <td id=\"T_97d09_row5_col15\" class=\"data row5 col15\" >0</td>\n",
              "      <td id=\"T_97d09_row5_col16\" class=\"data row5 col16\" >0</td>\n",
              "      <td id=\"T_97d09_row5_col17\" class=\"data row5 col17\" >0</td>\n",
              "    </tr>\n",
              "    <tr>\n",
              "      <th id=\"T_97d09_level0_row6\" class=\"row_heading level0 row6\" >6</th>\n",
              "      <td id=\"T_97d09_row6_col0\" class=\"data row6 col0\" >0</td>\n",
              "      <td id=\"T_97d09_row6_col1\" class=\"data row6 col1\" >0</td>\n",
              "      <td id=\"T_97d09_row6_col2\" class=\"data row6 col2\" >0</td>\n",
              "      <td id=\"T_97d09_row6_col3\" class=\"data row6 col3\" >0</td>\n",
              "      <td id=\"T_97d09_row6_col4\" class=\"data row6 col4\" >0</td>\n",
              "      <td id=\"T_97d09_row6_col5\" class=\"data row6 col5\" >0</td>\n",
              "      <td id=\"T_97d09_row6_col6\" class=\"data row6 col6\" >0</td>\n",
              "      <td id=\"T_97d09_row6_col7\" class=\"data row6 col7\" >0</td>\n",
              "      <td id=\"T_97d09_row6_col8\" class=\"data row6 col8\" >0</td>\n",
              "      <td id=\"T_97d09_row6_col9\" class=\"data row6 col9\" >0</td>\n",
              "      <td id=\"T_97d09_row6_col10\" class=\"data row6 col10\" >249</td>\n",
              "      <td id=\"T_97d09_row6_col11\" class=\"data row6 col11\" >253</td>\n",
              "      <td id=\"T_97d09_row6_col12\" class=\"data row6 col12\" >245</td>\n",
              "      <td id=\"T_97d09_row6_col13\" class=\"data row6 col13\" >126</td>\n",
              "      <td id=\"T_97d09_row6_col14\" class=\"data row6 col14\" >0</td>\n",
              "      <td id=\"T_97d09_row6_col15\" class=\"data row6 col15\" >0</td>\n",
              "      <td id=\"T_97d09_row6_col16\" class=\"data row6 col16\" >0</td>\n",
              "      <td id=\"T_97d09_row6_col17\" class=\"data row6 col17\" >0</td>\n",
              "    </tr>\n",
              "    <tr>\n",
              "      <th id=\"T_97d09_level0_row7\" class=\"row_heading level0 row7\" >7</th>\n",
              "      <td id=\"T_97d09_row7_col0\" class=\"data row7 col0\" >0</td>\n",
              "      <td id=\"T_97d09_row7_col1\" class=\"data row7 col1\" >0</td>\n",
              "      <td id=\"T_97d09_row7_col2\" class=\"data row7 col2\" >0</td>\n",
              "      <td id=\"T_97d09_row7_col3\" class=\"data row7 col3\" >0</td>\n",
              "      <td id=\"T_97d09_row7_col4\" class=\"data row7 col4\" >0</td>\n",
              "      <td id=\"T_97d09_row7_col5\" class=\"data row7 col5\" >0</td>\n",
              "      <td id=\"T_97d09_row7_col6\" class=\"data row7 col6\" >0</td>\n",
              "      <td id=\"T_97d09_row7_col7\" class=\"data row7 col7\" >14</td>\n",
              "      <td id=\"T_97d09_row7_col8\" class=\"data row7 col8\" >101</td>\n",
              "      <td id=\"T_97d09_row7_col9\" class=\"data row7 col9\" >223</td>\n",
              "      <td id=\"T_97d09_row7_col10\" class=\"data row7 col10\" >253</td>\n",
              "      <td id=\"T_97d09_row7_col11\" class=\"data row7 col11\" >248</td>\n",
              "      <td id=\"T_97d09_row7_col12\" class=\"data row7 col12\" >124</td>\n",
              "      <td id=\"T_97d09_row7_col13\" class=\"data row7 col13\" >0</td>\n",
              "      <td id=\"T_97d09_row7_col14\" class=\"data row7 col14\" >0</td>\n",
              "      <td id=\"T_97d09_row7_col15\" class=\"data row7 col15\" >0</td>\n",
              "      <td id=\"T_97d09_row7_col16\" class=\"data row7 col16\" >0</td>\n",
              "      <td id=\"T_97d09_row7_col17\" class=\"data row7 col17\" >0</td>\n",
              "    </tr>\n",
              "    <tr>\n",
              "      <th id=\"T_97d09_level0_row8\" class=\"row_heading level0 row8\" >8</th>\n",
              "      <td id=\"T_97d09_row8_col0\" class=\"data row8 col0\" >0</td>\n",
              "      <td id=\"T_97d09_row8_col1\" class=\"data row8 col1\" >0</td>\n",
              "      <td id=\"T_97d09_row8_col2\" class=\"data row8 col2\" >0</td>\n",
              "      <td id=\"T_97d09_row8_col3\" class=\"data row8 col3\" >0</td>\n",
              "      <td id=\"T_97d09_row8_col4\" class=\"data row8 col4\" >0</td>\n",
              "      <td id=\"T_97d09_row8_col5\" class=\"data row8 col5\" >11</td>\n",
              "      <td id=\"T_97d09_row8_col6\" class=\"data row8 col6\" >166</td>\n",
              "      <td id=\"T_97d09_row8_col7\" class=\"data row8 col7\" >239</td>\n",
              "      <td id=\"T_97d09_row8_col8\" class=\"data row8 col8\" >253</td>\n",
              "      <td id=\"T_97d09_row8_col9\" class=\"data row8 col9\" >253</td>\n",
              "      <td id=\"T_97d09_row8_col10\" class=\"data row8 col10\" >253</td>\n",
              "      <td id=\"T_97d09_row8_col11\" class=\"data row8 col11\" >187</td>\n",
              "      <td id=\"T_97d09_row8_col12\" class=\"data row8 col12\" >30</td>\n",
              "      <td id=\"T_97d09_row8_col13\" class=\"data row8 col13\" >0</td>\n",
              "      <td id=\"T_97d09_row8_col14\" class=\"data row8 col14\" >0</td>\n",
              "      <td id=\"T_97d09_row8_col15\" class=\"data row8 col15\" >0</td>\n",
              "      <td id=\"T_97d09_row8_col16\" class=\"data row8 col16\" >0</td>\n",
              "      <td id=\"T_97d09_row8_col17\" class=\"data row8 col17\" >0</td>\n",
              "    </tr>\n",
              "    <tr>\n",
              "      <th id=\"T_97d09_level0_row9\" class=\"row_heading level0 row9\" >9</th>\n",
              "      <td id=\"T_97d09_row9_col0\" class=\"data row9 col0\" >0</td>\n",
              "      <td id=\"T_97d09_row9_col1\" class=\"data row9 col1\" >0</td>\n",
              "      <td id=\"T_97d09_row9_col2\" class=\"data row9 col2\" >0</td>\n",
              "      <td id=\"T_97d09_row9_col3\" class=\"data row9 col3\" >0</td>\n",
              "      <td id=\"T_97d09_row9_col4\" class=\"data row9 col4\" >0</td>\n",
              "      <td id=\"T_97d09_row9_col5\" class=\"data row9 col5\" >16</td>\n",
              "      <td id=\"T_97d09_row9_col6\" class=\"data row9 col6\" >248</td>\n",
              "      <td id=\"T_97d09_row9_col7\" class=\"data row9 col7\" >250</td>\n",
              "      <td id=\"T_97d09_row9_col8\" class=\"data row9 col8\" >253</td>\n",
              "      <td id=\"T_97d09_row9_col9\" class=\"data row9 col9\" >253</td>\n",
              "      <td id=\"T_97d09_row9_col10\" class=\"data row9 col10\" >253</td>\n",
              "      <td id=\"T_97d09_row9_col11\" class=\"data row9 col11\" >253</td>\n",
              "      <td id=\"T_97d09_row9_col12\" class=\"data row9 col12\" >232</td>\n",
              "      <td id=\"T_97d09_row9_col13\" class=\"data row9 col13\" >213</td>\n",
              "      <td id=\"T_97d09_row9_col14\" class=\"data row9 col14\" >111</td>\n",
              "      <td id=\"T_97d09_row9_col15\" class=\"data row9 col15\" >2</td>\n",
              "      <td id=\"T_97d09_row9_col16\" class=\"data row9 col16\" >0</td>\n",
              "      <td id=\"T_97d09_row9_col17\" class=\"data row9 col17\" >0</td>\n",
              "    </tr>\n",
              "    <tr>\n",
              "      <th id=\"T_97d09_level0_row10\" class=\"row_heading level0 row10\" >10</th>\n",
              "      <td id=\"T_97d09_row10_col0\" class=\"data row10 col0\" >0</td>\n",
              "      <td id=\"T_97d09_row10_col1\" class=\"data row10 col1\" >0</td>\n",
              "      <td id=\"T_97d09_row10_col2\" class=\"data row10 col2\" >0</td>\n",
              "      <td id=\"T_97d09_row10_col3\" class=\"data row10 col3\" >0</td>\n",
              "      <td id=\"T_97d09_row10_col4\" class=\"data row10 col4\" >0</td>\n",
              "      <td id=\"T_97d09_row10_col5\" class=\"data row10 col5\" >0</td>\n",
              "      <td id=\"T_97d09_row10_col6\" class=\"data row10 col6\" >0</td>\n",
              "      <td id=\"T_97d09_row10_col7\" class=\"data row10 col7\" >43</td>\n",
              "      <td id=\"T_97d09_row10_col8\" class=\"data row10 col8\" >98</td>\n",
              "      <td id=\"T_97d09_row10_col9\" class=\"data row10 col9\" >98</td>\n",
              "      <td id=\"T_97d09_row10_col10\" class=\"data row10 col10\" >208</td>\n",
              "      <td id=\"T_97d09_row10_col11\" class=\"data row10 col11\" >253</td>\n",
              "      <td id=\"T_97d09_row10_col12\" class=\"data row10 col12\" >253</td>\n",
              "      <td id=\"T_97d09_row10_col13\" class=\"data row10 col13\" >253</td>\n",
              "      <td id=\"T_97d09_row10_col14\" class=\"data row10 col14\" >253</td>\n",
              "      <td id=\"T_97d09_row10_col15\" class=\"data row10 col15\" >187</td>\n",
              "      <td id=\"T_97d09_row10_col16\" class=\"data row10 col16\" >22</td>\n",
              "      <td id=\"T_97d09_row10_col17\" class=\"data row10 col17\" >0</td>\n",
              "    </tr>\n",
              "  </tbody>\n",
              "</table>\n"
            ]
          },
          "metadata": {},
          "execution_count": 9
        }
      ]
    },
    {
      "cell_type": "markdown",
      "source": [
        "Average Pixel Values"
      ],
      "metadata": {
        "id": "XF8C-ZdUQHuv"
      }
    },
    {
      "cell_type": "code",
      "source": [
        "seven_tensors = [tensor(Image.open(o)) for o in sevens]\n",
        "three_tensors = [tensor(Image.open(o)) for o in threes]\n",
        "len(seven_tensors), len(three_tensors)"
      ],
      "metadata": {
        "colab": {
          "base_uri": "https://localhost:8080/"
        },
        "id": "jlnjVPXbO3US",
        "outputId": "f1e5ccfd-1234-4563-ae9e-5f3238ed744d"
      },
      "execution_count": 10,
      "outputs": [
        {
          "output_type": "execute_result",
          "data": {
            "text/plain": [
              "(6265, 6131)"
            ]
          },
          "metadata": {},
          "execution_count": 10
        }
      ]
    },
    {
      "cell_type": "code",
      "source": [
        "show_image(seven_tensors[5])"
      ],
      "metadata": {
        "colab": {
          "base_uri": "https://localhost:8080/",
          "height": 131
        },
        "id": "Zandxu2tQez4",
        "outputId": "e3df248e-046c-45df-c576-a63b071624c7"
      },
      "execution_count": 11,
      "outputs": [
        {
          "output_type": "execute_result",
          "data": {
            "text/plain": [
              "<Axes: >"
            ]
          },
          "metadata": {},
          "execution_count": 11
        },
        {
          "output_type": "display_data",
          "data": {
            "text/plain": [
              "<Figure size 100x100 with 1 Axes>"
            ],
            "image/png": "[encoded data removed]"
          },
          "metadata": {}
        }
      ]
    },
    {
      "cell_type": "code",
      "source": [
        "stacked_sevens = torch.stack(seven_tensors).float()/255\n",
        "stacked_threes = torch.stack(three_tensors).float()/255\n",
        "stacked_threes.shape"
      ],
      "metadata": {
        "colab": {
          "base_uri": "https://localhost:8080/"
        },
        "id": "7RErwVYAQtGg",
        "outputId": "bfff72a8-dd40-458c-c2c3-01c50063134e"
      },
      "execution_count": 12,
      "outputs": [
        {
          "output_type": "execute_result",
          "data": {
            "text/plain": [
              "torch.Size([6131, 28, 28])"
            ]
          },
          "metadata": {},
          "execution_count": 12
        }
      ]
    },
    {
      "cell_type": "code",
      "source": [
        "stacked_sevens.shape"
      ],
      "metadata": {
        "colab": {
          "base_uri": "https://localhost:8080/"
        },
        "id": "I0j9sOpNRG96",
        "outputId": "ae02eaa8-7e22-4cf7-e8e4-26862ed3b056"
      },
      "execution_count": 13,
      "outputs": [
        {
          "output_type": "execute_result",
          "data": {
            "text/plain": [
              "torch.Size([6265, 28, 28])"
            ]
          },
          "metadata": {},
          "execution_count": 13
        }
      ]
    },
    {
      "cell_type": "code",
      "source": [
        "mean3 = stacked_threes.mean(0)\n",
        "show_image(mean3)"
      ],
      "metadata": {
        "colab": {
          "base_uri": "https://localhost:8080/",
          "height": 131
        },
        "id": "IISvHW4qRJsI",
        "outputId": "f33366e0-d955-41c4-d827-c0302e4e6195"
      },
      "execution_count": 14,
      "outputs": [
        {
          "output_type": "execute_result",
          "data": {
            "text/plain": [
              "<Axes: >"
            ]
          },
          "metadata": {},
          "execution_count": 14
        },
        {
          "output_type": "display_data",
          "data": {
            "text/plain": [
              "<Figure size 100x100 with 1 Axes>"
            ],
            "image/png": "[encoded data removed]"
          },
          "metadata": {}
        }
      ]
    },
    {
      "cell_type": "code",
      "source": [
        "mean7 = stacked_sevens.mean(0)\n",
        "show_image(mean7);"
      ],
      "metadata": {
        "colab": {
          "base_uri": "https://localhost:8080/",
          "height": 114
        },
        "id": "94TqVRAYR_sO",
        "outputId": "3038d239-6c29-4cb9-d0d2-2d714708af39"
      },
      "execution_count": 15,
      "outputs": [
        {
          "output_type": "display_data",
          "data": {
            "text/plain": [
              "<Figure size 100x100 with 1 Axes>"
            ],
            "image/png": "[encoded data removed]"
          },
          "metadata": {}
        }
      ]
    },
    {
      "cell_type": "code",
      "source": [
        "a_3 = stacked_threes[1]\n",
        "show_image(a_3)"
      ],
      "metadata": {
        "colab": {
          "base_uri": "https://localhost:8080/",
          "height": 131
        },
        "id": "HzJdD2KLSI5N",
        "outputId": "6a421c46-aa58-47c4-e785-53f8d8382223"
      },
      "execution_count": 16,
      "outputs": [
        {
          "output_type": "execute_result",
          "data": {
            "text/plain": [
              "<Axes: >"
            ]
          },
          "metadata": {},
          "execution_count": 16
        },
        {
          "output_type": "display_data",
          "data": {
            "text/plain": [
              "<Figure size 100x100 with 1 Axes>"
            ],
            "image/png": "[encoded data removed]"
          },
          "metadata": {}
        }
      ]
    },
    {
      "cell_type": "code",
      "source": [
        "dist_3 = (a_3 - mean3).abs().mean()\n",
        "dist_3_sqr = ((a_3 - mean3)**2).mean().sqrt()\n",
        "dist_3, dist_3_sqr"
      ],
      "metadata": {
        "colab": {
          "base_uri": "https://localhost:8080/"
        },
        "id": "-q4YPGvESQXO",
        "outputId": "e22d700f-a23e-4e30-aa8b-d6e66c33a6e0"
      },
      "execution_count": 17,
      "outputs": [
        {
          "output_type": "execute_result",
          "data": {
            "text/plain": [
              "(tensor(0.1114), tensor(0.2021))"
            ]
          },
          "metadata": {},
          "execution_count": 17
        }
      ]
    },
    {
      "cell_type": "code",
      "source": [
        "dist_7 = (a_3 - mean7).abs().mean()\n",
        "dist_7_sqr = ((a_3 - mean7)**2).mean().sqrt()\n",
        "dist_7, dist_7_sqr"
      ],
      "metadata": {
        "colab": {
          "base_uri": "https://localhost:8080/"
        },
        "id": "ZPafsiw_S-J8",
        "outputId": "ec933e2c-9993-4e05-c762-0c789abb014a"
      },
      "execution_count": 18,
      "outputs": [
        {
          "output_type": "execute_result",
          "data": {
            "text/plain": [
              "(tensor(0.1586), tensor(0.3021))"
            ]
          },
          "metadata": {},
          "execution_count": 18
        }
      ]
    },
    {
      "cell_type": "code",
      "source": [
        "F.l1_loss(a_3.float(), mean7), F.mse_loss(a_3.float(), mean7).sqrt()"
      ],
      "metadata": {
        "colab": {
          "base_uri": "https://localhost:8080/"
        },
        "id": "4kaEa_yGTQrd",
        "outputId": "fa928c08-1172-4a4d-9ddd-17dacc917c74"
      },
      "execution_count": 19,
      "outputs": [
        {
          "output_type": "execute_result",
          "data": {
            "text/plain": [
              "(tensor(0.1586), tensor(0.3021))"
            ]
          },
          "metadata": {},
          "execution_count": 19
        }
      ]
    },
    {
      "cell_type": "code",
      "source": [
        "data = [[1,2,3],[4,5,6]]\n",
        "arr = array(data)\n",
        "tns = tensor(data)"
      ],
      "metadata": {
        "id": "aqg0U0AnTh73"
      },
      "execution_count": 20,
      "outputs": []
    },
    {
      "cell_type": "code",
      "source": [
        "arr"
      ],
      "metadata": {
        "colab": {
          "base_uri": "https://localhost:8080/"
        },
        "id": "etxaEdPOVCxT",
        "outputId": "067c9afa-dc06-4da9-e1fa-8c8fb1053364"
      },
      "execution_count": 21,
      "outputs": [
        {
          "output_type": "execute_result",
          "data": {
            "text/plain": [
              "array([[1, 2, 3],\n",
              "       [4, 5, 6]])"
            ]
          },
          "metadata": {},
          "execution_count": 21
        }
      ]
    },
    {
      "cell_type": "code",
      "source": [
        "tns"
      ],
      "metadata": {
        "colab": {
          "base_uri": "https://localhost:8080/"
        },
        "id": "VtzvCxn0Vbc0",
        "outputId": "eef8000a-9748-47e7-b3a9-7196e211cae2"
      },
      "execution_count": 22,
      "outputs": [
        {
          "output_type": "execute_result",
          "data": {
            "text/plain": [
              "tensor([[1, 2, 3],\n",
              "        [4, 5, 6]])"
            ]
          },
          "metadata": {},
          "execution_count": 22
        }
      ]
    },
    {
      "cell_type": "code",
      "source": [
        "valid_3 = torch.stack([tensor(Image.open(o)) for o in (path/'valid'/'3').ls()])\n",
        "valid_3 = valid_3.float() / 255"
      ],
      "metadata": {
        "id": "hjdPB20ZVcbU"
      },
      "execution_count": 23,
      "outputs": []
    },
    {
      "cell_type": "code",
      "source": [
        "valid_7 = torch.stack([tensor(Image.open(o)) for o in (path/'valid'/'7').ls()])\n",
        "valid_7 = valid_7.float() / 255"
      ],
      "metadata": {
        "id": "WoXbQyMeWnVU"
      },
      "execution_count": 24,
      "outputs": []
    },
    {
      "cell_type": "code",
      "source": [
        "valid_3.shape, valid_7.shape"
      ],
      "metadata": {
        "colab": {
          "base_uri": "https://localhost:8080/"
        },
        "id": "No-sXeUjW7xU",
        "outputId": "086b965a-758f-4f45-fdc6-32a0a32d8ba8"
      },
      "execution_count": 25,
      "outputs": [
        {
          "output_type": "execute_result",
          "data": {
            "text/plain": [
              "(torch.Size([1010, 28, 28]), torch.Size([1028, 28, 28]))"
            ]
          },
          "metadata": {},
          "execution_count": 25
        }
      ]
    },
    {
      "cell_type": "code",
      "source": [
        "def mnist_distance(a,b): return (a-b).abs().mean((-1,-2))\n",
        "mnist_distance(a_3, mean3)"
      ],
      "metadata": {
        "colab": {
          "base_uri": "https://localhost:8080/"
        },
        "id": "AEFGU_56XAv7",
        "outputId": "42d97dcd-be45-49ba-c826-9d723ccdec3a"
      },
      "execution_count": 26,
      "outputs": [
        {
          "output_type": "execute_result",
          "data": {
            "text/plain": [
              "tensor(0.1114)"
            ]
          },
          "metadata": {},
          "execution_count": 26
        }
      ]
    },
    {
      "cell_type": "markdown",
      "metadata": {
        "id": "949d36d1"
      },
      "source": [
        "In PyTorch, negative indices count backwards from the last dimension. So, `(-1,-2)` refers to the last two dimensions of the tensor. In this case, we are calculating the mean of the absolute differences over the height and width of the images (the last two dimensions of the image tensors)."
      ]
    },
    {
      "cell_type": "code",
      "source": [
        "valid_3_dist = mnist_distance(valid_3, mean3)\n",
        "valid_3_dist, valid_3_dist.shape"
      ],
      "metadata": {
        "colab": {
          "base_uri": "https://localhost:8080/"
        },
        "id": "X2livvUhXmEn",
        "outputId": "ead9bce5-0d05-4bea-f623-5642c4414fd7"
      },
      "execution_count": 27,
      "outputs": [
        {
          "output_type": "execute_result",
          "data": {
            "text/plain": [
              "(tensor([0.1102, 0.1289, 0.1403,  ..., 0.1301, 0.1132, 0.1079]),\n",
              " torch.Size([1010]))"
            ]
          },
          "metadata": {},
          "execution_count": 27
        }
      ]
    },
    {
      "cell_type": "code",
      "source": [
        "def is_3(x): return mnist_distance(x,mean3) < mnist_distance(x,mean7)"
      ],
      "metadata": {
        "id": "u_I9VHOKXoDw"
      },
      "execution_count": 28,
      "outputs": []
    },
    {
      "cell_type": "code",
      "source": [
        "is_3(a_3), is_3(a_3).float()"
      ],
      "metadata": {
        "colab": {
          "base_uri": "https://localhost:8080/"
        },
        "id": "qw9PRBrfX-bi",
        "outputId": "d44f181f-9c99-487c-abe7-7885d039c321"
      },
      "execution_count": 29,
      "outputs": [
        {
          "output_type": "execute_result",
          "data": {
            "text/plain": [
              "(tensor(True), tensor(1.))"
            ]
          },
          "metadata": {},
          "execution_count": 29
        }
      ]
    },
    {
      "cell_type": "code",
      "source": [
        "accuracy_3s =      is_3(valid_3).float() .mean()\n",
        "accuracy_7s = (1 - is_3(valid_7).float()).mean()\n",
        "\n",
        "accuracy_3s,accuracy_7s,(accuracy_3s+accuracy_7s)/2"
      ],
      "metadata": {
        "colab": {
          "base_uri": "https://localhost:8080/"
        },
        "id": "WMSTxYUdYB7K",
        "outputId": "10d34596-9095-41d4-f69d-fc58e0cc40a6"
      },
      "execution_count": 30,
      "outputs": [
        {
          "output_type": "execute_result",
          "data": {
            "text/plain": [
              "(tensor(0.9168), tensor(0.9854), tensor(0.9511))"
            ]
          },
          "metadata": {},
          "execution_count": 30
        }
      ]
    },
    {
      "cell_type": "code",
      "source": [
        "def f(x): return x**2"
      ],
      "metadata": {
        "id": "t5pNYpYGZX0a"
      },
      "execution_count": 31,
      "outputs": []
    },
    {
      "cell_type": "code",
      "source": [
        "plot_function(f, 'x', 'x**2')"
      ],
      "metadata": {
        "id": "2eJtcpYPeL2D",
        "outputId": "bed6d369-96de-4e1d-cabe-9b40bea98d37",
        "colab": {
          "base_uri": "https://localhost:8080/",
          "height": 396
        }
      },
      "execution_count": 32,
      "outputs": [
        {
          "output_type": "display_data",
          "data": {
            "text/plain": [
              "<Figure size 600x400 with 1 Axes>"
            ],
            "image/png": "[encoded data removed]"
          },
          "metadata": {}
        }
      ]
    },
    {
      "cell_type": "code",
      "source": [
        "plot_function(f,'x','x**2')\n",
        "plt.scatter(-1.5, f(-1.5), color=\"red\")"
      ],
      "metadata": {
        "id": "uAPaqIs1eQ5d",
        "outputId": "d59f6085-f082-4c0c-9d83-aa1224c8d0d9",
        "colab": {
          "base_uri": "https://localhost:8080/",
          "height": 413
        }
      },
      "execution_count": 33,
      "outputs": [
        {
          "output_type": "execute_result",
          "data": {
            "text/plain": [
              "<matplotlib.collections.PathCollection at 0x7caa4d90efc0>"
            ]
          },
          "metadata": {},
          "execution_count": 33
        },
        {
          "output_type": "display_data",
          "data": {
            "text/plain": [
              "<Figure size 600x400 with 1 Axes>"
            ],
            "image/png": "[encoded data removed]"
          },
          "metadata": {}
        }
      ]
    },
    {
      "cell_type": "code",
      "source": [
        "xt = tensor(3.).requires_grad_()"
      ],
      "metadata": {
        "id": "KYh75-40edjk"
      },
      "execution_count": 34,
      "outputs": []
    },
    {
      "cell_type": "code",
      "source": [
        "yt = f(xt)\n",
        "yt"
      ],
      "metadata": {
        "id": "FJ6tlbjyfFbU",
        "outputId": "6d5ecb6a-85e3-419d-b131-a1abc543595f",
        "colab": {
          "base_uri": "https://localhost:8080/"
        }
      },
      "execution_count": 35,
      "outputs": [
        {
          "output_type": "execute_result",
          "data": {
            "text/plain": [
              "tensor(9., grad_fn=<PowBackward0>)"
            ]
          },
          "metadata": {},
          "execution_count": 35
        }
      ]
    },
    {
      "cell_type": "code",
      "source": [
        "yt.backward()"
      ],
      "metadata": {
        "id": "Gh6Bao0OfRyu"
      },
      "execution_count": 36,
      "outputs": []
    },
    {
      "cell_type": "code",
      "source": [
        "xt.grad"
      ],
      "metadata": {
        "id": "Z2S1ZLwnfWMk",
        "outputId": "9f45aef1-9226-4a16-e026-ee42efb5fbe3",
        "colab": {
          "base_uri": "https://localhost:8080/"
        }
      },
      "execution_count": 37,
      "outputs": [
        {
          "output_type": "execute_result",
          "data": {
            "text/plain": [
              "tensor(6.)"
            ]
          },
          "metadata": {},
          "execution_count": 37
        }
      ]
    },
    {
      "cell_type": "code",
      "source": [
        "xt = tensor([3.,4.,10.]).requires_grad_()\n",
        "xt"
      ],
      "metadata": {
        "id": "E6v-icYQfb8U",
        "outputId": "624c50ed-5bab-451e-d5f4-1864d4865b88",
        "colab": {
          "base_uri": "https://localhost:8080/"
        }
      },
      "execution_count": 38,
      "outputs": [
        {
          "output_type": "execute_result",
          "data": {
            "text/plain": [
              "tensor([ 3.,  4., 10.], requires_grad=True)"
            ]
          },
          "metadata": {},
          "execution_count": 38
        }
      ]
    },
    {
      "cell_type": "code",
      "source": [
        "def f(x): return (x**2).sum()\n",
        "\n",
        "yt = f(xt)\n",
        "yt"
      ],
      "metadata": {
        "id": "YzgxOR3DfgB7",
        "outputId": "395d0dbf-df86-4d2e-f05a-adec0e8fda3e",
        "colab": {
          "base_uri": "https://localhost:8080/"
        }
      },
      "execution_count": 39,
      "outputs": [
        {
          "output_type": "execute_result",
          "data": {
            "text/plain": [
              "tensor(125., grad_fn=<SumBackward0>)"
            ]
          },
          "metadata": {},
          "execution_count": 39
        }
      ]
    },
    {
      "cell_type": "code",
      "source": [
        "yt.backward()\n",
        "xt.grad"
      ],
      "metadata": {
        "id": "Gc07inJxfh6q",
        "outputId": "c78a64b6-e21f-46a3-fc58-f6663c7b329c",
        "colab": {
          "base_uri": "https://localhost:8080/"
        }
      },
      "execution_count": 40,
      "outputs": [
        {
          "output_type": "execute_result",
          "data": {
            "text/plain": [
              "tensor([ 6.,  8., 20.])"
            ]
          },
          "metadata": {},
          "execution_count": 40
        }
      ]
    },
    {
      "cell_type": "code",
      "source": [
        "time = torch.arange(0,20).float(); time"
      ],
      "metadata": {
        "id": "yMmtJCUFfpOM",
        "outputId": "58c69aea-cf63-45fe-e5d8-a05fc8c4966b",
        "colab": {
          "base_uri": "https://localhost:8080/"
        }
      },
      "execution_count": 41,
      "outputs": [
        {
          "output_type": "execute_result",
          "data": {
            "text/plain": [
              "tensor([ 0.,  1.,  2.,  3.,  4.,  5.,  6.,  7.,  8.,  9., 10., 11., 12., 13., 14., 15., 16., 17., 18., 19.])"
            ]
          },
          "metadata": {},
          "execution_count": 41
        }
      ]
    },
    {
      "cell_type": "code",
      "source": [
        "speed = torch.randn(20)*3 + 0.75*(time-9.5)**2 + 1\n",
        "plt.scatter(time,speed);"
      ],
      "metadata": {
        "id": "YwDFWhbXL4RH",
        "outputId": "78dc77f3-6aab-48d7-f4d0-28efd87ee1c7",
        "colab": {
          "base_uri": "https://localhost:8080/",
          "height": 434
        }
      },
      "execution_count": 42,
      "outputs": [
        {
          "output_type": "display_data",
          "data": {
            "text/plain": [
              "<Figure size 640x480 with 1 Axes>"
            ],
            "image/png": "[encoded data removed]"
          },
          "metadata": {}
        }
      ]
    },
    {
      "cell_type": "code",
      "source": [
        "def f(t, params):\n",
        "  a,b,c = params\n",
        "  return a*(t**2) + (b*t) + c"
      ],
      "metadata": {
        "id": "iQzmuTfoL7n1"
      },
      "execution_count": 43,
      "outputs": []
    },
    {
      "cell_type": "code",
      "source": [
        "def mse(preds, targets): return ((preds-targets)**2).mean()"
      ],
      "metadata": {
        "id": "jBzTUuPhMfPu"
      },
      "execution_count": 44,
      "outputs": []
    },
    {
      "cell_type": "code",
      "source": [
        "params = torch.randn(3).requires_grad_()"
      ],
      "metadata": {
        "id": "66APnJMWMhFW"
      },
      "execution_count": 45,
      "outputs": []
    },
    {
      "cell_type": "code",
      "source": [
        "preds = f(time, params)"
      ],
      "metadata": {
        "id": "n1f4yKt4MjLV"
      },
      "execution_count": 46,
      "outputs": []
    },
    {
      "cell_type": "code",
      "source": [
        "def show_preds(preds, ax=None):\n",
        "    if ax is None: ax=plt.subplots()[1]\n",
        "    ax.scatter(time, speed)\n",
        "    ax.scatter(time, to_np(preds), color='red')\n",
        "    ax.set_ylim(-300,100)"
      ],
      "metadata": {
        "id": "91e_7f_uMk78"
      },
      "execution_count": 47,
      "outputs": []
    },
    {
      "cell_type": "code",
      "source": [
        "show_preds(preds)"
      ],
      "metadata": {
        "id": "mr2wtVVyMm-F",
        "outputId": "74b6812f-35dc-4ffa-d4e9-57550b785dfd",
        "colab": {
          "base_uri": "https://localhost:8080/",
          "height": 441
        }
      },
      "execution_count": 48,
      "outputs": [
        {
          "output_type": "display_data",
          "data": {
            "text/plain": [
              "<Figure size 640x480 with 1 Axes>"
            ],
            "image/png": "[encoded data removed]"
          },
          "metadata": {}
        }
      ]
    },
    {
      "cell_type": "code",
      "source": [
        "loss = mse(preds, speed)\n",
        "loss"
      ],
      "metadata": {
        "id": "DXMb7FojMoIl",
        "outputId": "fc47ab33-13ed-4b74-adfd-54ec5aa9100c",
        "colab": {
          "base_uri": "https://localhost:8080/"
        }
      },
      "execution_count": 49,
      "outputs": [
        {
          "output_type": "execute_result",
          "data": {
            "text/plain": [
              "tensor(25823.8086, grad_fn=<MeanBackward0>)"
            ]
          },
          "metadata": {},
          "execution_count": 49
        }
      ]
    },
    {
      "cell_type": "code",
      "source": [
        "loss.backward()\n",
        "params.grad"
      ],
      "metadata": {
        "id": "tA2UoSf9MrlG",
        "outputId": "99eaf9e0-6c80-41e6-9341-540181f3e207",
        "colab": {
          "base_uri": "https://localhost:8080/"
        }
      },
      "execution_count": 50,
      "outputs": [
        {
          "output_type": "execute_result",
          "data": {
            "text/plain": [
              "tensor([-53195.8633,  -3419.7148,   -253.8908])"
            ]
          },
          "metadata": {},
          "execution_count": 50
        }
      ]
    },
    {
      "cell_type": "code",
      "source": [
        "params.grad * 1e-5"
      ],
      "metadata": {
        "id": "hA5I_mIDMs1N",
        "outputId": "713f4c82-2376-41ab-fcb8-3500e60874e6",
        "colab": {
          "base_uri": "https://localhost:8080/"
        }
      },
      "execution_count": 51,
      "outputs": [
        {
          "output_type": "execute_result",
          "data": {
            "text/plain": [
              "tensor([-0.5320, -0.0342, -0.0025])"
            ]
          },
          "metadata": {},
          "execution_count": 51
        }
      ]
    },
    {
      "cell_type": "code",
      "source": [
        "params"
      ],
      "metadata": {
        "id": "JYL_BI2WMuO-",
        "outputId": "d48426c9-83e2-4028-d7b5-854b1998a77f",
        "colab": {
          "base_uri": "https://localhost:8080/"
        }
      },
      "execution_count": 52,
      "outputs": [
        {
          "output_type": "execute_result",
          "data": {
            "text/plain": [
              "tensor([-0.7658, -0.7506,  1.3525], requires_grad=True)"
            ]
          },
          "metadata": {},
          "execution_count": 52
        }
      ]
    },
    {
      "cell_type": "code",
      "source": [
        "lr = 1e-5\n",
        "params.data -= lr * params.grad.data\n",
        "params.grad = None"
      ],
      "metadata": {
        "id": "hpSo2_ESMw40"
      },
      "execution_count": 53,
      "outputs": []
    },
    {
      "cell_type": "code",
      "source": [
        "preds = f(time,params)\n",
        "mse(preds, speed)"
      ],
      "metadata": {
        "id": "76wjhCvmMyc-",
        "outputId": "9a49601f-9ce5-47ad-8771-423f596e4e57",
        "colab": {
          "base_uri": "https://localhost:8080/"
        }
      },
      "execution_count": 54,
      "outputs": [
        {
          "output_type": "execute_result",
          "data": {
            "text/plain": [
              "tensor(5435.5356, grad_fn=<MeanBackward0>)"
            ]
          },
          "metadata": {},
          "execution_count": 54
        }
      ]
    },
    {
      "cell_type": "code",
      "source": [
        "show_preds(preds)"
      ],
      "metadata": {
        "id": "a0nnSXPRM0C1",
        "outputId": "c205ab24-0014-4b80-98a5-4077135660a7",
        "colab": {
          "base_uri": "https://localhost:8080/",
          "height": 441
        }
      },
      "execution_count": 55,
      "outputs": [
        {
          "output_type": "display_data",
          "data": {
            "text/plain": [
              "<Figure size 640x480 with 1 Axes>"
            ],
            "image/png": "[encoded data removed]"
          },
          "metadata": {}
        }
      ]
    },
    {
      "cell_type": "code",
      "source": [
        "def apply_step(params, prn=True):\n",
        "    preds = f(time, params)\n",
        "    loss = mse(preds, speed)\n",
        "    loss.backward()\n",
        "    params.data -= lr * params.grad.data\n",
        "    params.grad = None\n",
        "    if prn: print(loss.item())\n",
        "    return preds"
      ],
      "metadata": {
        "id": "tPnbBiQ4M1E1"
      },
      "execution_count": 56,
      "outputs": []
    },
    {
      "cell_type": "code",
      "source": [
        "for i in range(10): apply_step(params)"
      ],
      "metadata": {
        "id": "3tS-ttq-M3am",
        "outputId": "19219b37-b4f9-482e-d24c-9c4ca9bb16ca",
        "colab": {
          "base_uri": "https://localhost:8080/"
        }
      },
      "execution_count": 57,
      "outputs": [
        {
          "output_type": "stream",
          "name": "stdout",
          "text": [
            "5435.53564453125\n",
            "1577.44921875\n",
            "847.3778076171875\n",
            "709.2225341796875\n",
            "683.0758056640625\n",
            "678.1243896484375\n",
            "677.1838989257812\n",
            "677.0023803710938\n",
            "676.9645385742188\n",
            "676.9537353515625\n"
          ]
        }
      ]
    },
    {
      "cell_type": "code",
      "source": [
        "_,axs = plt.subplots(1,4,figsize=(12,3))\n",
        "for ax in axs: show_preds(apply_step(params, False), ax)\n",
        "plt.tight_layout()"
      ],
      "metadata": {
        "id": "Yxv_aUF_M42L",
        "outputId": "7de08a31-c294-4733-cb6e-230eb217da54",
        "colab": {
          "base_uri": "https://localhost:8080/",
          "height": 300
        }
      },
      "execution_count": 58,
      "outputs": [
        {
          "output_type": "display_data",
          "data": {
            "text/plain": [
              "<Figure size 1200x300 with 4 Axes>"
            ],
            "image/png": "[encoded data removed]"
          },
          "metadata": {}
        }
      ]
    },
    {
      "cell_type": "code",
      "source": [
        "stacked_threes.shape, stacked_sevens.shape\n",
        "stacked_threes.shape[0] +stacked_sevens.shape[0]"
      ],
      "metadata": {
        "id": "xTQZqmAdSt4O",
        "outputId": "a5c7e8a9-72eb-46fc-ba42-82d65a33fc78",
        "colab": {
          "base_uri": "https://localhost:8080/"
        }
      },
      "execution_count": 65,
      "outputs": [
        {
          "output_type": "execute_result",
          "data": {
            "text/plain": [
              "12396"
            ]
          },
          "metadata": {},
          "execution_count": 65
        }
      ]
    },
    {
      "cell_type": "code",
      "source": [
        "torch.cat([stacked_threes, stacked_sevens]).shape"
      ],
      "metadata": {
        "id": "SeBEVRudTD1a",
        "outputId": "47018628-a8d4-4c75-ddbd-3565490061a8",
        "colab": {
          "base_uri": "https://localhost:8080/"
        }
      },
      "execution_count": 67,
      "outputs": [
        {
          "output_type": "execute_result",
          "data": {
            "text/plain": [
              "torch.Size([12396, 28, 28])"
            ]
          },
          "metadata": {},
          "execution_count": 67
        }
      ]
    },
    {
      "cell_type": "code",
      "source": [
        "train_x = torch.cat([stacked_threes, stacked_sevens]).view(-1, 28*28)"
      ],
      "metadata": {
        "id": "mHmOkiwEM65m"
      },
      "execution_count": 59,
      "outputs": []
    },
    {
      "cell_type": "code",
      "source": [
        "train_x.shape"
      ],
      "metadata": {
        "id": "1nd8mpm7Ocqi",
        "outputId": "b7887022-7466-474a-e9e6-729117fa6e94",
        "colab": {
          "base_uri": "https://localhost:8080/"
        }
      },
      "execution_count": 60,
      "outputs": [
        {
          "output_type": "execute_result",
          "data": {
            "text/plain": [
              "torch.Size([12396, 784])"
            ]
          },
          "metadata": {},
          "execution_count": 60
        }
      ]
    },
    {
      "cell_type": "code",
      "source": [
        "train_y = tensor([1]*len(threes) + [0]*len(sevens)).unsqueeze(1)\n",
        "train_x.shape,train_y.shape"
      ],
      "metadata": {
        "id": "-ukzeAt0OeEa",
        "outputId": "0b9c41c6-02e2-4049-8e10-00041e955996",
        "colab": {
          "base_uri": "https://localhost:8080/"
        }
      },
      "execution_count": 61,
      "outputs": [
        {
          "output_type": "execute_result",
          "data": {
            "text/plain": [
              "(torch.Size([12396, 784]), torch.Size([12396, 1]))"
            ]
          },
          "metadata": {},
          "execution_count": 61
        }
      ]
    },
    {
      "cell_type": "code",
      "source": [
        "dset = list(zip(train_x, train_y))\n",
        "x,y = dset[0]\n",
        "x.shape, y"
      ],
      "metadata": {
        "id": "T8NSnn9rOqx0",
        "outputId": "773501bc-e67c-494f-cf94-45e7fccd4dcb",
        "colab": {
          "base_uri": "https://localhost:8080/"
        }
      },
      "execution_count": 70,
      "outputs": [
        {
          "output_type": "execute_result",
          "data": {
            "text/plain": [
              "(torch.Size([784]), tensor([1]))"
            ]
          },
          "metadata": {},
          "execution_count": 70
        }
      ]
    },
    {
      "cell_type": "code",
      "source": [
        "valid_x = torch.cat([valid_3, valid_7]).view(-1, 28*28)\n",
        "valid_y = tensor([1]*len(valid_3) + [0]*len(valid_7)).unsqueeze(1)\n",
        "valid_dset = list(zip(valid_x,valid_y))"
      ],
      "metadata": {
        "id": "TccUZ-LiTkSC"
      },
      "execution_count": 71,
      "outputs": []
    },
    {
      "cell_type": "code",
      "source": [
        "def init_params(size, std=1.0): return (torch.randn(size)*std).requires_grad_()"
      ],
      "metadata": {
        "id": "o_vU9_nPUG-o"
      },
      "execution_count": 72,
      "outputs": []
    },
    {
      "cell_type": "code",
      "source": [
        "weights = init_params((28*28,1))"
      ],
      "metadata": {
        "id": "EUvRaT8YXSqo"
      },
      "execution_count": 73,
      "outputs": []
    },
    {
      "cell_type": "code",
      "source": [
        "weights.shape"
      ],
      "metadata": {
        "id": "EsfsoVcwXX-N",
        "outputId": "4e4341ab-e7b0-425e-a7d5-244277478cd3",
        "colab": {
          "base_uri": "https://localhost:8080/"
        }
      },
      "execution_count": 74,
      "outputs": [
        {
          "output_type": "execute_result",
          "data": {
            "text/plain": [
              "torch.Size([784, 1])"
            ]
          },
          "metadata": {},
          "execution_count": 74
        }
      ]
    },
    {
      "cell_type": "code",
      "source": [
        "bias = init_params(1)"
      ],
      "metadata": {
        "id": "kl9egFTaXZT8"
      },
      "execution_count": 75,
      "outputs": []
    },
    {
      "cell_type": "code",
      "source": [
        "(train_x[0]*weights.T).sum() + bias"
      ],
      "metadata": {
        "id": "gmxjlp01XbKr",
        "outputId": "5babf18d-c1ab-4cbb-e1d6-a8d0ebafcde7",
        "colab": {
          "base_uri": "https://localhost:8080/"
        }
      },
      "execution_count": 76,
      "outputs": [
        {
          "output_type": "execute_result",
          "data": {
            "text/plain": [
              "tensor([20.2336], grad_fn=<AddBackward0>)"
            ]
          },
          "metadata": {},
          "execution_count": 76
        }
      ]
    },
    {
      "cell_type": "code",
      "source": [
        "def linear1(xb): return xb@weights + bias\n",
        "preds = linear1(train_x)\n",
        "preds"
      ],
      "metadata": {
        "id": "iRFmCbapXh_1",
        "outputId": "1fa3e70d-2300-46bc-cc1d-ae36bc2141be",
        "colab": {
          "base_uri": "https://localhost:8080/"
        }
      },
      "execution_count": 77,
      "outputs": [
        {
          "output_type": "execute_result",
          "data": {
            "text/plain": [
              "tensor([[20.2336],\n",
              "        [17.0644],\n",
              "        [15.2384],\n",
              "        ...,\n",
              "        [18.3804],\n",
              "        [23.8567],\n",
              "        [28.6816]], grad_fn=<AddBackward0>)"
            ]
          },
          "metadata": {},
          "execution_count": 77
        }
      ]
    },
    {
      "cell_type": "code",
      "source": [
        "corrects = (preds>0.0).float() == train_y\n",
        "corrects"
      ],
      "metadata": {
        "id": "1PWYC22sXpHh",
        "outputId": "42477aaa-23bf-4d76-b2c6-0acdda632792",
        "colab": {
          "base_uri": "https://localhost:8080/"
        }
      },
      "execution_count": 78,
      "outputs": [
        {
          "output_type": "execute_result",
          "data": {
            "text/plain": [
              "tensor([[ True],\n",
              "        [ True],\n",
              "        [ True],\n",
              "        ...,\n",
              "        [False],\n",
              "        [False],\n",
              "        [False]])"
            ]
          },
          "metadata": {},
          "execution_count": 78
        }
      ]
    },
    {
      "cell_type": "code",
      "source": [
        "corrects.float().mean().item()"
      ],
      "metadata": {
        "id": "8kP1oETvXr_o",
        "outputId": "8783fdc0-ed0f-43d8-fc69-f8ec7ef60abe",
        "colab": {
          "base_uri": "https://localhost:8080/"
        }
      },
      "execution_count": 79,
      "outputs": [
        {
          "output_type": "execute_result",
          "data": {
            "text/plain": [
              "0.4912068545818329"
            ]
          },
          "metadata": {},
          "execution_count": 79
        }
      ]
    },
    {
      "cell_type": "code",
      "source": [
        "with torch.no_grad(): weights[0] *= 1.0001"
      ],
      "metadata": {
        "id": "7nbnftiiXvh5"
      },
      "execution_count": 80,
      "outputs": []
    },
    {
      "cell_type": "code",
      "source": [
        "preds = linear1(train_x)\n",
        "((preds>0.0).float() == train_y).float().mean().item()"
      ],
      "metadata": {
        "id": "KQoI2cDUXzHk",
        "outputId": "cecf8e8e-2f9c-4094-8420-b16f7844df45",
        "colab": {
          "base_uri": "https://localhost:8080/"
        }
      },
      "execution_count": 81,
      "outputs": [
        {
          "output_type": "execute_result",
          "data": {
            "text/plain": [
              "0.4912068545818329"
            ]
          },
          "metadata": {},
          "execution_count": 81
        }
      ]
    },
    {
      "cell_type": "code",
      "source": [],
      "metadata": {
        "id": "gLs87ylEX0Sk"
      },
      "execution_count": null,
      "outputs": []
    }
  ]
}